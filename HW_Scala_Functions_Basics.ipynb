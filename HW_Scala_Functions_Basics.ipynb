{
  "cells": [
    {
      "cell_type": "markdown",
      "metadata": {
        "id": "up2G8zDbhsEN"
      },
      "source": [
        "# Scala in Colab"
      ]
    },
    {
      "cell_type": "markdown",
      "metadata": {
        "id": "sL1Vq6r6J6dA"
      },
      "source": [
        "## Install the Scala Kernel\n",
        "If you get a \"scala\" kernel not recognized warning when loading up the notebook for the first time, start by running the two cells below. Once you are done **reload the page** to load the notebook in the installed Scala kernel."
      ]
    },
    {
      "cell_type": "code",
      "execution_count": null,
      "metadata": {
        "id": "RoCcdvTCAqeR"
      },
      "outputs": [],
      "source": [
        "%%shell\n",
        "SCALA_VERSION=2.12.8 ALMOND_VERSION=0.3.0+16-548dc10f-SNAPSHOT\n",
        "curl -Lo coursier https://git.io/coursier-cli\n",
        "chmod +x coursier\n",
        "./coursier bootstrap \\\n",
        "    -r jitpack -r sonatype:snapshots \\\n",
        "    -i user -I user:sh.almond:scala-kernel-api_$SCALA_VERSION:$ALMOND_VERSION \\\n",
        "    sh.almond:scala-kernel_$SCALA_VERSION:$ALMOND_VERSION \\\n",
        "    --sources --default=true \\\n",
        "    -o almond-snapshot --embed-files=false\n",
        "rm coursier\n",
        "./almond-snapshot --install --global --force\n",
        "rm almond-snapshot"
      ]
    },
    {
      "cell_type": "code",
      "execution_count": null,
      "metadata": {
        "id": "BZchIo9sArF4"
      },
      "outputs": [],
      "source": [
        "%%shell\n",
        "echo \"{\n",
        "  \\\"language\\\" : \\\"scala\\\",\n",
        "  \\\"display_name\\\" : \\\"Scala\\\",\n",
        "  \\\"argv\\\" : [\n",
        "    \\\"bash\\\",\n",
        "    \\\"-c\\\",\n",
        "    \\\"env LD_PRELOAD=/usr/lib/x86_64-linux-gnu/libpython3.6m.so:\\$LD_PRELOAD java -jar /usr/local/share/jupyter/kernels/scala/launcher.jar --connection-file {connection_file}\\\"\n",
        "  ]\n",
        "}\" > /usr/local/share/jupyter/kernels/scala/kernel.json"
      ]
    },
    {
      "cell_type": "markdown",
      "metadata": {
        "id": "JJIJEl7QofBO"
      },
      "source": [
        "<h1>Problem 1</h1>"
      ]
    },
    {
      "cell_type": "markdown",
      "metadata": {
        "id": "73NwnME_iKcR"
      },
      "source": [
        "<p>\n",
        "    Write a function, <b>isThreeSorted</b>, that behaves like the isSorted function we\n",
        "covered in class except that it works on three items of an array rather than two items.\n",
        "The function should take two arguments, an array and a predicate function on three\n",
        "values, and it should return true or false if the predicate function is satisfied for all\n",
        "triplets in the array. If the array has less than 3 elements, then isThreeSorted should\n",
        "return false.\n",
        "\n",
        "Test your function by writing three additional functions, each of which take an array as an argument, call three sorted with the appropriate predicate function, and return true or false if the condition is satisfied for the array.\n",
        "\n",
        "\n",
        "<p>\n",
        "<ol>\n",
        "    <li><b>alpha(x: Array[String])</b> tests alphabetical sort on Array[String] </li>\n",
        "    <ul><li>Array(\"John\",\"Mary\",\"Qing\") returns true</li>\n",
        "        <li>Array(\"James\", \"Jones\", \"Earl\") returns false</li>\n",
        "        <li></li>\n",
        "    </ul>\n",
        "    <li><b>len(x: Array[String])</b> tests length sort on Array[String]</li>\n",
        "    <ul><li>Array(\"John\", \"Basquiat\", \"Annapurna\") returns true</li>\n",
        "        <li>Array(\"John\", \"Basquiat\", \"Annapurna\", \"Yoda\") returns false</li>\n",
        "        <li></li>\n",
        "    </ul>\n",
        "    <li><b>fib_like_test(x: Array[Int])</b> tests whether Array[Int] satisfies the conditions a fibonacci like condition of 3 or more elements. I.e., every element is the sum of the previous two elements, except for the first two elements in the series. Note that this is not testing whether the array contains a segment of the fibonacci series (see the last example). </li>  \n",
        "    <ul>\n",
        "        <li>Array(1,1,2,3,5,8,13) returns true</li>\n",
        "        <li>Array(1,1) returns false</li>\n",
        "        <li>Array(1,1,2,3,5,9,13) returns false</li>\n",
        "        <li>Array(4,8,12,20,32) returns true</li>\n",
        "    </ul>\n",
        "</ol>\n",
        "\n"
      ]
    },
    {
      "cell_type": "code",
      "execution_count": 70,
      "metadata": {
        "colab": {
          "base_uri": "https://localhost:8080/"
        },
        "id": "eBVmb_v6hWdv",
        "outputId": "beaa5bac-ccd3-4314-9d7d-685247348da9"
      },
      "outputs": [
        {
          "data": {
            "text/plain": [
              "defined \u001b[32mfunction\u001b[39m \u001b[36misSorted\u001b[39m"
            ]
          },
          "execution_count": 70,
          "metadata": {},
          "output_type": "execute_result"
        }
      ],
      "source": [
        "def isSorted[A](a:Array[A], p:(A,A,A) =>Boolean):Boolean = {\n",
        "    @annotation.tailrec\n",
        "    def loop(i:Int): Boolean = {\n",
        "        if (a.length<3) false \n",
        "        else if (i>=a.length-1) true\n",
        "        else if (!p(a(i-1),a(i),a(i+1))) false\n",
        "        else loop(i+1)\n",
        "\n",
        "    } \n",
        "    loop(1)\n",
        "}"
      ]
    },
    {
      "cell_type": "markdown",
      "metadata": {
        "id": "R72lZnTGokV1"
      },
      "source": [
        "<h1>Alphabetical tests</h1>"
      ]
    },
    {
      "cell_type": "code",
      "execution_count": 71,
      "metadata": {
        "colab": {
          "base_uri": "https://localhost:8080/"
        },
        "id": "QJxv9cQ3lac1",
        "outputId": "9592ca9c-8bcf-4879-8afd-403e9528057d"
      },
      "outputs": [
        {
          "data": {
            "text/plain": [
              "defined \u001b[32mfunction\u001b[39m \u001b[36malpha\u001b[39m"
            ]
          },
          "execution_count": 71,
          "metadata": {},
          "output_type": "execute_result"
        }
      ],
      "source": [
        "def alpha(x: Array[String]) = isSorted(x,(a: String,b: String,c: String)=> (a<b) & (b<c))"
      ]
    },
    {
      "cell_type": "code",
      "execution_count": 72,
      "metadata": {
        "colab": {
          "base_uri": "https://localhost:8080/"
        },
        "id": "3zrHx1w5lafR",
        "outputId": "6db4eedc-4974-4a80-c3a8-8031dc46cbdd"
      },
      "outputs": [
        {
          "data": {
            "text/plain": [
              "\u001b[36mt1\u001b[39m: \u001b[32mBoolean\u001b[39m = true\n",
              "\u001b[36mt2\u001b[39m: \u001b[32mBoolean\u001b[39m = false"
            ]
          },
          "execution_count": 72,
          "metadata": {},
          "output_type": "execute_result"
        }
      ],
      "source": [
        "val t1 = alpha(Array(\"John\",\"Mary\",\"Qing\"))         //true\n",
        "val t2 = alpha(Array(\"James\", \"Jones\", \"Earl\"))     //false"
      ]
    },
    {
      "cell_type": "markdown",
      "metadata": {
        "id": "63YeEwtYpYiD"
      },
      "source": [
        "<h1>Length tests</h1>"
      ]
    },
    {
      "cell_type": "code",
      "execution_count": 73,
      "metadata": {
        "colab": {
          "base_uri": "https://localhost:8080/"
        },
        "id": "l9RrnhJ2lajN",
        "outputId": "735d19dd-3092-4157-a998-22d17899f686"
      },
      "outputs": [
        {
          "data": {
            "text/plain": [
              "defined \u001b[32mfunction\u001b[39m \u001b[36mlen\u001b[39m\n",
              "\u001b[36mt3\u001b[39m: \u001b[32mBoolean\u001b[39m = true\n",
              "\u001b[36mt4\u001b[39m: \u001b[32mBoolean\u001b[39m = false"
            ]
          },
          "execution_count": 73,
          "metadata": {},
          "output_type": "execute_result"
        }
      ],
      "source": [
        "def len(x: Array[String]) = isSorted(x,(a: String,b: String,c: String)=> (a.length<b.length) & (b.length<c.length))\n",
        "\n",
        "val t3 = len(Array(\"John\", \"Basquiat\", \"Annapurna\")) //Returns true\n",
        "val t4 = len(Array(\"John\", \"Basquiat\", \"Annapurna\", \"Yoda\")) //Returns false"
      ]
    },
    {
      "cell_type": "markdown",
      "metadata": {
        "id": "Dny-byRxpdf1"
      },
      "source": [
        "<h1>Fibonacci like test</h1>"
      ]
    },
    {
      "cell_type": "code",
      "execution_count": 74,
      "metadata": {
        "colab": {
          "base_uri": "https://localhost:8080/"
        },
        "id": "c93IEq4mlalq",
        "outputId": "79bdcb6b-7ce9-4a8e-b415-d9c8b0d8a7c4"
      },
      "outputs": [
        {
          "data": {
            "text/plain": [
              "defined \u001b[32mfunction\u001b[39m \u001b[36mfib_like_test\u001b[39m\n",
              "\u001b[36mt4\u001b[39m: \u001b[32mBoolean\u001b[39m = true\n",
              "\u001b[36mt5\u001b[39m: \u001b[32mBoolean\u001b[39m = false\n",
              "\u001b[36mt6\u001b[39m: \u001b[32mBoolean\u001b[39m = false\n",
              "\u001b[36mt7\u001b[39m: \u001b[32mBoolean\u001b[39m = true\n",
              "\u001b[36mt8\u001b[39m: \u001b[32mBoolean\u001b[39m = true"
            ]
          },
          "execution_count": 74,
          "metadata": {},
          "output_type": "execute_result"
        }
      ],
      "source": [
        "def fib_like_test(x: Array[Int]) = isSorted(x,(a: Int,b: Int,c: Int)=> (a+b==c))\n",
        "\n",
        "\n",
        "val t4 = fib_like_test(Array(1,1,2,3,5,8,13)) //Returns true\n",
        "val t5 = fib_like_test(Array(1,1)) //Returns false\n",
        "val t6 = fib_like_test(Array(1,1,2,3,5,9,13)) //Returns false\n",
        "val t7 = fib_like_test(Array(3,5,8)) //Returns true\n",
        "val t8 = fib_like_test(Array(4,8,12,20,32)) //Returns true"
      ]
    },
    {
      "cell_type": "markdown",
      "metadata": {
        "id": "vjWMQJv9uGl0"
      },
      "source": [
        "<h1>Problem 2</h1>\n",
        "Write a function <b>extract</b> that takes two arguments, a string and an integer, and returns a string containing every i-th character from the string.  Your function should be tail recursive\n",
        "\n",
        "Note a couple of things:\n",
        "<ul>\n",
        "    <li>The first character returned is the first character in the string</li>\n",
        "    <li>If the string is empty, an empty string is returned</li>\n",
        "</ul>\n",
        "        \n",
        "<span style=\"color:green;font-size:x-large\">Example walkthrough</span>\n",
        "<p>\n",
        "extract(\"7XY9BC8FF4DX\",3)<p>\n",
        "returns 7984 because\n",
        "<li> The first character is 7\n",
        "<li> The second character is at 0 + 3 and the value at 3 is 9\n",
        "<li> The third character is at 3 + 3 and the value at 6 is 8\n",
        "<li> The fourth character is at 6 + 3 and the value at 9 is 4\n",
        "<li> 9 + 3 = 12 is beyond the end of the string so the function ends there"
      ]
    },
    {
      "cell_type": "code",
      "execution_count": null,
      "metadata": {},
      "outputs": [],
      "source": [
        "def extract(a: String,i: Int): String = {\n",
        "    def loop(n: Int,r: String): String =\n",
        "        if (n >= a.length+1) r\n",
        "        else loop(n+i,r+a(n-1))\n",
        "    if (i <= 0) \"\"\n",
        "    else loop(1,\"\")\n",
        "} //this answer should work"
      ]
    },
    {
      "cell_type": "code",
      "execution_count": 75,
      "metadata": {
        "colab": {
          "base_uri": "https://localhost:8080/"
        },
        "id": "vTBNyzDZ3qeQ",
        "outputId": "9d5a7814-d551-4e22-c8ba-08ac54056e9d"
      },
      "outputs": [
        {
          "data": {
            "text/plain": [
              "defined \u001b[32mfunction\u001b[39m \u001b[36mextract\u001b[39m"
            ]
          },
          "execution_count": 75,
          "metadata": {},
          "output_type": "execute_result"
        }
      ],
      "source": [
        "def extract(a: String, i: Int): String = {\n",
        "    @annotation.tailrec\n",
        "    def loop(n: Int, m: String): String = {\n",
        "        if ((i > a.length) | (a.length==0)) \"\"\n",
        "        else if (n+1 > a.length) m\n",
        "        else loop(n+i, m+a(n))\n",
        "    }\n",
        "    loop(0, \"\")  \n",
        "} // but this looks better"
      ]
    },
    {
      "cell_type": "markdown",
      "metadata": {
        "id": "0FL1laQYuLmG"
      },
      "source": [
        "<h2>Tests</h2>"
      ]
    },
    {
      "cell_type": "code",
      "execution_count": 76,
      "metadata": {
        "colab": {
          "base_uri": "https://localhost:8080/"
        },
        "id": "yumpk2IWuNg3",
        "outputId": "9801a5ea-587b-4f9d-bc54-0bff5de24c58"
      },
      "outputs": [
        {
          "data": {
            "text/plain": [
              "\u001b[36me1\u001b[39m: \u001b[32mString\u001b[39m = \u001b[32m\"7984\"\u001b[39m\n",
              "\u001b[36me2\u001b[39m: \u001b[32mString\u001b[39m = \u001b[32m\"\"\u001b[39m\n",
              "\u001b[36me3\u001b[39m: \u001b[32mString\u001b[39m = \u001b[32m\"Hello\"\u001b[39m"
            ]
          },
          "execution_count": 76,
          "metadata": {},
          "output_type": "execute_result"
        }
      ],
      "source": [
        "val e1 = extract(\"7XY9BC8FF4DX\",3) //Returns 7984\n",
        "val e2 = extract(\"\",1) //Returns \"\"\n",
        "val e3 = extract(\"Hello\",1) //Returns Hello"
      ]
    },
    {
      "cell_type": "markdown",
      "metadata": {
        "id": "_epO3Lrr1FZb"
      },
      "source": [
        "<h1>Problem 3</h1>\n",
        "Write a higher order version of extract (call it ho_extract) that takes a string and a function, f(Int) and returns every f(Int)-th character of the string. Note a couple of things:\n",
        "<ul>\n",
        "    <li>The first character returned is the first character in the string</li>\n",
        "    <li>If the string is empty, an empty string is returned</li>\n",
        "    <li>f(Int) must return an Int</li> \n",
        "    <li>f(Int) takes values 1, 2, 3, etc. Value 1 corresponds to the 0-th location in the string, value 2 to the 1-th location, etc. </li>\n",
        "    <li>Note that you'll get an endless recursion if the function doesn't return an Int >=1 so be careful!</li>\n",
        "</ul>\n",
        "\n",
        "Once you've tested out the function with the two tests below, add a third test in which the increment is i*3/2. For the string \"\"Joe Biden is the President\", your call should return \"JoBs\" (a coincidence, I swear!)\n"
      ]
    },
    {
      "cell_type": "code",
      "execution_count": 77,
      "metadata": {
        "colab": {
          "base_uri": "https://localhost:8080/"
        },
        "id": "uGFl8DaOyWWh",
        "outputId": "222c6b46-335b-4d9d-8a08-7842f82f183b"
      },
      "outputs": [
        {
          "data": {
            "text/plain": [
              "defined \u001b[32mfunction\u001b[39m \u001b[36mho_extract\u001b[39m"
            ]
          },
          "execution_count": 77,
          "metadata": {},
          "output_type": "execute_result"
        }
      ],
      "source": [
        "def ho_extract(a: String,f: Int=>Int): String = {\n",
        "    def loop(n: Int,r: String): String = {\n",
        "        if (n >= a.length+1) r\n",
        "        else loop(n+f(n),r+a(n-1))}\n",
        "    loop(1,\"\")\n",
        "}"
      ]
    },
    {
      "cell_type": "markdown",
      "metadata": {
        "id": "WE4SqD4c1NJZ"
      },
      "source": [
        "<h2>Tests</h2>"
      ]
    },
    {
      "cell_type": "code",
      "execution_count": 78,
      "metadata": {
        "colab": {
          "base_uri": "https://localhost:8080/"
        },
        "id": "cGJCBmHX1LV8",
        "outputId": "865d6b73-ec0b-48ee-84f4-330616486b80"
      },
      "outputs": [
        {
          "data": {
            "text/plain": [
              "\u001b[36mh1\u001b[39m: \u001b[32mString\u001b[39m = \u001b[32m\"\"\u001b[39m\n",
              "\u001b[36mh2\u001b[39m: \u001b[32mString\u001b[39m = \u001b[32m\"7YF\"\u001b[39m"
            ]
          },
          "execution_count": 78,
          "metadata": {},
          "output_type": "execute_result"
        }
      ],
      "source": [
        "val h1 = ho_extract(\"\",(i: Int)=>(i*2).toInt) //Returns \"\"\n",
        "val h2 = ho_extract(\"7XY9BC8FF4DX\",(i: Int)=>(i*2)) //Returns \"7YF\"\n"
      ]
    },
    {
      "cell_type": "code",
      "execution_count": 79,
      "metadata": {
        "colab": {
          "base_uri": "https://localhost:8080/"
        },
        "id": "biuBG5a61Sfn",
        "outputId": "f15a99c6-37f2-46cf-953e-33598695ab49"
      },
      "outputs": [
        {
          "data": {
            "text/plain": [
              "\u001b[36mh3\u001b[39m: \u001b[32mString\u001b[39m = \u001b[32m\"JoBs\"\u001b[39m\n",
              "\u001b[36mh4\u001b[39m: \u001b[32mString\u001b[39m = \u001b[32m\"125\"\u001b[39m"
            ]
          },
          "execution_count": 79,
          "metadata": {},
          "output_type": "execute_result"
        }
      ],
      "source": [
        "val h3 = ho_extract(\"Joe Biden is the President\",(i: Int)=>(i*3/2)) //Returns \"JoBs\"\n",
        "val h4 = ho_extract(\"1234567890\",(i: Int)=>(i*3/2)) //Returns \"125\""
      ]
    },
    {
      "cell_type": "code",
      "execution_count": null,
      "metadata": {
        "id": "zIbXRuhy1eha"
      },
      "outputs": [],
      "source": []
    }
  ],
  "metadata": {
    "colab": {
      "collapsed_sections": [],
      "name": "Scala in Colab Template.ipynb",
      "provenance": []
    },
    "kernelspec": {
      "display_name": "spylon-kernel",
      "language": "scala",
      "name": "spylon-kernel"
    },
    "language_info": {
      "name": "scala"
    }
  },
  "nbformat": 4,
  "nbformat_minor": 0
}
