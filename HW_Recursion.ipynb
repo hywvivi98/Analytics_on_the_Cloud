{
 "cells": [
  {
   "cell_type": "markdown",
   "metadata": {},
   "source": [
    "<h1>Problem 1</h1>\n",
    "Write a recursive Python function <span style=\"color:blue\">permutations(w)</span> that takes a string as an argument and returns a list containing all the permutations of that string. For e.g.,\n",
    "\n",
    "permutations(\"abc\") should return ['abc', 'acb', 'bac', 'bca', 'cab', 'cba']\n",
    "\n",
    "The easiest way to do this is as follows:\n",
    "\n",
    "<ol>\n",
    "    <li>initialize an empty list that will contain all the permutations (e.g., all_perms)</li>\n",
    "    <li> loop through the string selecting each letter as the first letter in the permutation in turn (e.g., 'a') - you can use iteration for this</li>\n",
    "    <li> call the permutation function on the string formed by the remaining letters (e.g., 'bc')</li>\n",
    "    <li> since the permutation function returns a list of permutations of the words, add the selected letter in step 1 to the front of each element of the returned string (e.g., add 'a' to each element of ['bc','cb']). List comprehension will be useful here</li>\n",
    "    <li> add this new list to the list to be returned (e.g., add ['abc', 'acb'] to all_perms)</li>\n",
    "    <li> after the loop finishes, return the list (once you've repeated the above for 'b' and 'c' as well)</li>\n",
    "</ol>\n",
    "<p>\n",
    "    <span style=\"color:blue\">permutations(\"\")</span> should return []\n",
    "    </p>\n",
    "    <p>\n",
    "    <span style=\"color:blue\">permutations(\"a\")</span> should return [\"a\"]\n",
    "    </p>\n",
    "    <p>\n",
    "    <span style=\"color:blue\">permutations(\"abcd\")</span> should return:\n",
    "<pre>\n",
    "    ['abcd',\n",
    "     'abdc',\n",
    "     'acbd',\n",
    "     'acdb',\n",
    "     'adbc',\n",
    "     'adcb',\n",
    "     'bacd',\n",
    "     'badc',\n",
    "     'bcad',\n",
    "     'bcda',\n",
    "     'bdac',\n",
    "     'bdca',\n",
    "     'cabd',\n",
    "     'cadb',\n",
    "     'cbad',\n",
    "     'cbda',\n",
    "     'cdab',\n",
    "     'cdba',\n",
    "     'dabc',\n",
    "     'dacb',\n",
    "     'dbac',\n",
    "     'dbca',\n",
    "     'dcab',\n",
    "     'dcba']\n",
    "</pre>"
   ]
  },
  {
   "cell_type": "code",
   "execution_count": 1,
   "metadata": {},
   "outputs": [],
   "source": [
    "def permutations(w):\n",
    "    if len(w)==1 or len(w)==0:\n",
    "        return list(w)\n",
    "    result=[]\n",
    "    for letter in w:        \n",
    "        remaining = permutations(w.replace(letter,''))\n",
    "        for t in remaining:\n",
    "            result.append(letter+t)\n",
    "#             print(result)\n",
    "    return result\n",
    "    "
   ]
  },
  {
   "cell_type": "code",
   "execution_count": 10,
   "metadata": {},
   "outputs": [
    {
     "data": {
      "text/plain": [
       "['abcd',\n",
       " 'abdc',\n",
       " 'acbd',\n",
       " 'acdb',\n",
       " 'adbc',\n",
       " 'adcb',\n",
       " 'bacd',\n",
       " 'badc',\n",
       " 'bcad',\n",
       " 'bcda',\n",
       " 'bdac',\n",
       " 'bdca',\n",
       " 'cabd',\n",
       " 'cadb',\n",
       " 'cbad',\n",
       " 'cbda',\n",
       " 'cdab',\n",
       " 'cdba',\n",
       " 'dabc',\n",
       " 'dacb',\n",
       " 'dbac',\n",
       " 'dbca',\n",
       " 'dcab',\n",
       " 'dcba']"
      ]
     },
     "execution_count": 10,
     "metadata": {},
     "output_type": "execute_result"
    }
   ],
   "source": [
    "permutations('abcd') #See above for return value"
   ]
  },
  {
   "cell_type": "code",
   "execution_count": 11,
   "metadata": {},
   "outputs": [
    {
     "data": {
      "text/plain": [
       "[]"
      ]
     },
     "execution_count": 11,
     "metadata": {},
     "output_type": "execute_result"
    }
   ],
   "source": [
    "permutations(\"\") #Should return []"
   ]
  },
  {
   "cell_type": "markdown",
   "metadata": {},
   "source": [
    "<h1>Problem 2</h1>\n",
    "A binary tree representation in Python is defined as below:\n",
    "<pre>\n",
    "class BinaryTreeNode:\n",
    "    def __init__(self, name,data):\n",
    "        self.name = name #The name of the node\n",
    "        self.data = data #Data associated with the node\n",
    "        self.leftChild = None #Left child\n",
    "        self.rightChild = None #Right child\n",
    "    \n",
    "    #adds a left and right child to the node. Note that the left child is added first\n",
    "    #I.e., there may be a left child without a right child but there cannot be a right child without a left child\n",
    "    def add_children(self,left,right=None): \n",
    "        self.leftChild = left\n",
    "        self.rightChild = right\n",
    "        \n",
    "    #str function for printing the contents of a node\n",
    "    def __str__(self):\n",
    "        rval = self.name\n",
    "        if self.leftChild:\n",
    "            rval += \" Left: \" + self.leftChild.name\n",
    "        if self.rightChild:\n",
    "            rval += \" Right: \" + self.rightChild.name\n",
    "        return rval\n",
    "    \n",
    "    #repr function for internal representation\n",
    "    def __repr__(self):\n",
    "        return self.name\n",
    "</pre>\n",
    "<p>\n",
    "    Write a recursive function <span style=\"color:blue\">find(node,value)</span> which searches the subtree at node for the first node whose data > value. find should be depth first (i.e., it should search a single path from the root to the leaf before moving to the next leaf\n",
    "</p>\n",
    "The function does not need to be tail recursive"
   ]
  },
  {
   "cell_type": "code",
   "execution_count": 4,
   "metadata": {},
   "outputs": [],
   "source": [
    "#The tree definition\n",
    "class BinaryTreeNode:\n",
    "    def __init__(self, name,data):\n",
    "        self.name = name #The name of the node\n",
    "        self.data = data #Data associated with the node\n",
    "        self.leftChild = None #Left child\n",
    "        self.rightChild = None #Right child\n",
    "    \n",
    "    #adds a left and right child to the node. Note that the left child is added first\n",
    "    #I.e., there may be a left child without a right child but there cannot be a right child without a left child\n",
    "    def add_children(self,left,right=None): \n",
    "        self.leftChild = left\n",
    "        self.rightChild = right\n",
    "        \n",
    "    #str function for printing the contents of a node\n",
    "    def __str__(self):\n",
    "        rval = self.name\n",
    "        if self.leftChild:\n",
    "            rval += \" Left: \" + self.leftChild.name\n",
    "        if self.rightChild:\n",
    "            rval += \" Right: \" + self.rightChild.name\n",
    "        return rval\n",
    "    \n",
    "    #repr function for internal representation\n",
    "    def __repr__(self):\n",
    "        return self.name"
   ]
  },
  {
   "cell_type": "markdown",
   "metadata": {},
   "source": [
    "<span style=\"color:red;font-size:xx-large\">Tree Example</span>\n",
    "<p>\n",
    "        <img src=\"sample_tree.png\">"
   ]
  },
  {
   "cell_type": "code",
   "execution_count": 5,
   "metadata": {},
   "outputs": [],
   "source": [
    "#Code for building the tree\n",
    "root = BinaryTreeNode(\"root\",33000)\n",
    "n1 = BinaryTreeNode(\"N1\",55000)\n",
    "n2 = BinaryTreeNode(\"N2\",120000)\n",
    "n3 = BinaryTreeNode(\"N3\",72000)\n",
    "n4 = BinaryTreeNode(\"N4\",88000)\n",
    "n5 = BinaryTreeNode(\"N5\",224000)\n",
    "n6 = BinaryTreeNode(\"N6\",56000)\n",
    "n7 = BinaryTreeNode(\"N7\",920000)\n",
    "n8 = BinaryTreeNode(\"N8\",183000)\n",
    "\n",
    "\n",
    "root.add_children(n1,n2)\n",
    "n1.add_children(n3,n4)\n",
    "n4.add_children(n8)\n",
    "n2.add_children(n5)\n",
    "n5.add_children(n6,n7)"
   ]
  },
  {
   "cell_type": "code",
   "execution_count": 6,
   "metadata": {},
   "outputs": [],
   "source": [
    "root.leftChild.data"
   ]
  },
  {
   "cell_type": "code",
   "execution_count": 7,
   "metadata": {},
   "outputs": [],
   "source": [
    "def find(node,value):\n",
    "    if node:  \n",
    "        if node.data > value:\n",
    "            return node.name\n",
    "        return find(node.leftChild, value) or find(node.rightChild, value)"
   ]
  },
  {
   "cell_type": "code",
   "execution_count": 12,
   "metadata": {},
   "outputs": [
    {
     "name": "stdout",
     "output_type": "stream",
     "text": [
      "N8\n",
      "root\n",
      "N7\n",
      "N5\n"
     ]
    }
   ],
   "source": [
    "#TEST EXAMPLES\n",
    "print(find(root,100000)) #Returns N8 (node search order N1,N3, N4, N8)\n",
    "print(find(root,100)) #Returns root\n",
    "print(find(root,800000)) #Returns N7 (node search order N1, N3, N4, N8, N2, N5, N6, N7 )\n",
    "print(find(n2,200000)) #Returns N5 (search starts from subtree at N2)"
   ]
  },
  {
   "cell_type": "markdown",
   "metadata": {},
   "source": [
    "<h1>Problem 3</h1>\n",
    "Write a recursive function <span style=\"color:blue\">find_all(node,value)</span> that returns a list containing all the nodes that contain data > value. The function does not need to be tail recursive."
   ]
  },
  {
   "cell_type": "code",
   "execution_count": 14,
   "metadata": {},
   "outputs": [],
   "source": [
    "def find_all(node,value):\n",
    "    if not node:\n",
    "        return []\n",
    "    nodes = list()\n",
    "    if node.data>value:\n",
    "        nodes.append(node)\n",
    "        # recursion; result will be a list of node\n",
    "    nodes += find_all(node.leftChild, value)\n",
    "    nodes += find_all(node.rightChild, value)\n",
    "    return nodes"
   ]
  },
  {
   "cell_type": "code",
   "execution_count": 15,
   "metadata": {},
   "outputs": [
    {
     "data": {
      "text/plain": [
       "[N5, N7]"
      ]
     },
     "execution_count": 15,
     "metadata": {},
     "output_type": "execute_result"
    }
   ],
   "source": [
    "find_all(n2,200000) #Should return [N5, N7]"
   ]
  },
  {
   "cell_type": "code",
   "execution_count": 16,
   "metadata": {},
   "outputs": [
    {
     "data": {
      "text/plain": [
       "[]"
      ]
     },
     "execution_count": 16,
     "metadata": {},
     "output_type": "execute_result"
    }
   ],
   "source": [
    "find_all(n1,200000) #Should return []"
   ]
  },
  {
   "cell_type": "code",
   "execution_count": 17,
   "metadata": {},
   "outputs": [
    {
     "data": {
      "text/plain": [
       "[root, N1, N3, N4, N8, N2, N5, N6, N7]"
      ]
     },
     "execution_count": 17,
     "metadata": {},
     "output_type": "execute_result"
    }
   ],
   "source": [
    "find_all(root,30000) #Should return [root, N1, N3, N4, N8, N2, N5, N6, N7]"
   ]
  },
  {
   "cell_type": "markdown",
   "metadata": {},
   "source": [
    "<h1>Problem 4</h1>\n",
    "Write a tail recursive function length that returns the total length of all the strings contained in a list of strings. \n",
    "\n",
    "For example:\n",
    "\n",
    "x=[\"John\",\"Jill\",\"Billy\"]\n",
    "\n",
    "length(x) \n",
    "\n",
    "should return 13. \n",
    "\n",
    "if \n",
    "\n",
    "x=[]\n",
    "\n",
    "length(x) should return 0.\n",
    "\n",
    "Your code can assume that the list is well-formed. I.e., it contains only strings or is empty"
   ]
  },
  {
   "cell_type": "code",
   "execution_count": 18,
   "metadata": {},
   "outputs": [],
   "source": [
    "def length(x):\n",
    "    if not bool(x):return 0\n",
    "    else: return 1+length(''.join(x)[1:])\n",
    "    \n"
   ]
  },
  {
   "cell_type": "code",
   "execution_count": 19,
   "metadata": {},
   "outputs": [
    {
     "data": {
      "text/plain": [
       "13"
      ]
     },
     "execution_count": 19,
     "metadata": {},
     "output_type": "execute_result"
    }
   ],
   "source": [
    "x=[\"John\",\"Jill\",\"Billy\"]\n",
    "length(x) #Should return 13"
   ]
  },
  {
   "cell_type": "code",
   "execution_count": 20,
   "metadata": {},
   "outputs": [
    {
     "data": {
      "text/plain": [
       "0"
      ]
     },
     "execution_count": 20,
     "metadata": {},
     "output_type": "execute_result"
    }
   ],
   "source": [
    "x=list()\n",
    "length(x) #Should return 0"
   ]
  },
  {
   "cell_type": "code",
   "execution_count": null,
   "metadata": {},
   "outputs": [],
   "source": []
  }
 ],
 "metadata": {
  "kernelspec": {
   "display_name": "Python 3",
   "language": "python",
   "name": "python3"
  },
  "language_info": {
   "codemirror_mode": {
    "name": "ipython",
    "version": 3
   },
   "file_extension": ".py",
   "mimetype": "text/x-python",
   "name": "python",
   "nbconvert_exporter": "python",
   "pygments_lexer": "ipython3",
   "version": "3.8.5"
  },
  "toc": {
   "base_numbering": 1,
   "nav_menu": {},
   "number_sections": true,
   "sideBar": true,
   "skip_h1_title": false,
   "title_cell": "Table of Contents",
   "title_sidebar": "Contents",
   "toc_cell": false,
   "toc_position": {},
   "toc_section_display": true,
   "toc_window_display": false
  }
 },
 "nbformat": 4,
 "nbformat_minor": 5
}
