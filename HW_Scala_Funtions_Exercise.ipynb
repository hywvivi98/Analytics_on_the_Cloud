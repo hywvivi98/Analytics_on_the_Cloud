{
  "cells": [
    {
      "cell_type": "markdown",
      "metadata": {
        "id": "up2G8zDbhsEN"
      },
      "source": [
        "# Scala in Colab"
      ]
    },
    {
      "cell_type": "markdown",
      "metadata": {
        "id": "sL1Vq6r6J6dA"
      },
      "source": [
        "## Install the Scala Kernel\n",
        "If you get a \"scala\" kernel not recognized warning when loading up the notebook for the first time, start by running the two cells below. Once you are done **reload the page** to load the notebook in the installed Scala kernel."
      ]
    },
    {
      "cell_type": "code",
      "execution_count": null,
      "metadata": {
        "id": "RoCcdvTCAqeR"
      },
      "outputs": [],
      "source": [
        "// %%shell\n",
        "// SCALA_VERSION=2.12.8 ALMOND_VERSION=0.3.0+16-548dc10f-SNAPSHOT\n",
        "// curl -Lo coursier https://git.io/coursier-cli\n",
        "// chmod +x coursier\n",
        "// ./coursier bootstrap \\\n",
        "//     -r jitpack -r sonatype:snapshots \\\n",
        "//     -i user -I user:sh.almond:scala-kernel-api_$SCALA_VERSION:$ALMOND_VERSION \\\n",
        "//     sh.almond:scala-kernel_$SCALA_VERSION:$ALMOND_VERSION \\\n",
        "//     --sources --default=true \\\n",
        "//     -o almond-snapshot --embed-files=false\n",
        "// rm coursier\n",
        "// ./almond-snapshot --install --global --force\n",
        "// rm almond-snapshot"
      ]
    },
    {
      "cell_type": "code",
      "execution_count": null,
      "metadata": {
        "id": "BZchIo9sArF4"
      },
      "outputs": [],
      "source": [
        "// %%shell\n",
        "// echo \"{\n",
        "//   \\\"language\\\" : \\\"scala\\\",\n",
        "//   \\\"display_name\\\" : \\\"Scala\\\",\n",
        "//   \\\"argv\\\" : [\n",
        "//     \\\"bash\\\",\n",
        "//     \\\"-c\\\",\n",
        "//     \\\"env LD_PRELOAD=/usr/lib/x86_64-linux-gnu/libpython3.6m.so:\\$LD_PRELOAD java -jar /usr/local/share/jupyter/kernels/scala/launcher.jar --connection-file {connection_file}\\\"\n",
        "//   ]\n",
        "// }\" > /usr/local/share/jupyter/kernels/scala/kernel.json"
      ]
    },
    {
      "cell_type": "markdown",
      "metadata": {
        "id": "bt3TSApfxb6e"
      },
      "source": []
    },
    {
      "cell_type": "code",
      "execution_count": 2,
      "metadata": {
        "colab": {
          "base_uri": "https://localhost:8080/"
        },
        "id": "hp9Jpo-6xRso",
        "outputId": "744d1272-f2a3-4c19-83e5-e5bce5777c22"
      },
      "outputs": [
        {
          "data": {
            "text/plain": [
              "defined \u001b[32mfunction\u001b[39m \u001b[36mcleanData\u001b[39m\n",
              "\u001b[36mtest_dataset1\u001b[39m: \u001b[32mArray\u001b[39m[\u001b[32mString\u001b[39m] = \u001b[33mArray\u001b[39m(\n",
              "  \u001b[32m\"1.2,3.1,2.4\"\u001b[39m,\n",
              "  \u001b[32m\" ,1.4,2.1\"\u001b[39m,\n",
              "  \u001b[32m\"8.1,2.6,bc\"\u001b[39m,\n",
              "  \u001b[32m\"7.1,3.2,9.4\"\u001b[39m\n",
              ")\n",
              "\u001b[36mtest_dataset2\u001b[39m: \u001b[32mArray\u001b[39m[\u001b[32mString\u001b[39m] = \u001b[33mArray\u001b[39m(\u001b[32m\"\"\u001b[39m)\n",
              "\u001b[36mtest_dataset3\u001b[39m: \u001b[32mArray\u001b[39m[\u001b[32mString\u001b[39m] = \u001b[33mArray\u001b[39m(\u001b[32m\" ,1.2,9.5\"\u001b[39m, \u001b[32m\",3.1,3.2\"\u001b[39m)\n",
              "\u001b[36mr1\u001b[39m: (\u001b[32mArray\u001b[39m[\u001b[32mDouble\u001b[39m], \u001b[32mArray\u001b[39m[\u001b[32mDouble\u001b[39m]) = (\n",
              "  \u001b[33mArray\u001b[39m(\u001b[32m5.466666666666666\u001b[39m, \u001b[32m2.575\u001b[39m, \u001b[32m4.633333333333334\u001b[39m),\n",
              "  \u001b[33mArray\u001b[39m(\u001b[32m9.268888888888888\u001b[39m, \u001b[32m0.5118750000000001\u001b[39m, \u001b[32m11.375555555555556\u001b[39m)\n",
              ")\n",
              "\u001b[36mr2\u001b[39m: (\u001b[32mArray\u001b[39m[\u001b[32mDouble\u001b[39m], \u001b[32mArray\u001b[39m[\u001b[32mDouble\u001b[39m]) = (\u001b[33mArray\u001b[39m(\u001b[32mNaN\u001b[39m), \u001b[33mArray\u001b[39m(\u001b[32mNaN\u001b[39m))\n",
              "\u001b[36mr3\u001b[39m: (\u001b[32mArray\u001b[39m[\u001b[32mDouble\u001b[39m], \u001b[32mArray\u001b[39m[\u001b[32mDouble\u001b[39m]) = (\n",
              "  \u001b[33mArray\u001b[39m(\u001b[32mNaN\u001b[39m, \u001b[32m2.15\u001b[39m, \u001b[32m6.35\u001b[39m),\n",
              "  \u001b[33mArray\u001b[39m(\u001b[32mNaN\u001b[39m, \u001b[32m0.9025000000000001\u001b[39m, \u001b[32m9.9225\u001b[39m)\n",
              ")"
            ]
          },
          "execution_count": 2,
          "metadata": {},
          "output_type": "execute_result"
        }
      ],
      "source": [
        "//PROBLEM 1: YOUR SOLUTION\n",
        "//Add arguments and the return type to the function signature\n",
        "def cleanData(dataset: Array[String]): (Array[Double], Array[Double]) = {\n",
        "    // tuple\n",
        "    \n",
        "    (\n",
        "        \n",
        "    // mean\n",
        "        dataset.map(x=>x.split(\",\")).transpose.\n",
        "    map(x=>x.flatMap(y=>scala.util.Try(y.toDouble).toOption)).\n",
        "    map(x=>x.sum/x.length),\n",
        "    // variance\n",
        "        dataset.map(x=>x.split(\",\")).transpose.\n",
        "    map(x=>x.flatMap(y=>scala.util.Try(y.toDouble).toOption)).\n",
        "    map(x=>(x,x.sum/x.length)).\n",
        "    map(x=>x._1.foldLeft(0.0)((a,b)=>a+(b-x._2)*(b-x._2))/x._1.length)\n",
        "    )\n",
        "    \n",
        "}\n",
        "\n",
        "\n",
        "//Test cases\n",
        "var test_dataset1 = Array(\"1.2,3.1,2.4\",\" ,1.4,2.1\",\"8.1,2.6,bc\",\"7.1,3.2,9.4\")\n",
        "var test_dataset2 = Array(\"\")\n",
        "var test_dataset3 = Array(\" ,1.2,9.5\",\",3.1,3.2\")\n",
        "val r1 = cleanData(test_dataset1)\n",
        "val r2 = cleanData(test_dataset2)\n",
        "val r3 = cleanData(test_dataset3)\n",
        "\n",
        "//Return values:\n",
        "\n",
        "//r1: (Array[Double], Array[Double]) = (Array(5.466666666666666, 2.575, 4.633333333333334),Array(9.268888888888888, 0.5118750000000001, 11.375555555555556))\n",
        "//r2: (Array[Double], Array[Double]) = (Array(NaN),Array(NaN))\n",
        "//r3: (Array[Double], Array[Double]) = (Array(NaN, 2.15, 6.35),Array(NaN, 0.9025000000000001, 9.9225))"
      ]
    },
    {
      "cell_type": "code",
      "execution_count": 3,
      "metadata": {
        "colab": {
          "base_uri": "https://localhost:8080/"
        },
        "id": "8rOlncwTxci-",
        "outputId": "56172fea-9370-43f0-ca2c-a1af5effea09"
      },
      "outputs": [
        {
          "name": "stdout",
          "output_type": "stream",
          "text": [
            "true\n",
            "false\n",
            "true\n",
            "false\n",
            "false\n"
          ]
        },
        {
          "data": {
            "text/plain": [
              "defined \u001b[32mfunction\u001b[39m \u001b[36misInList\u001b[39m\n",
              "\u001b[36mx1\u001b[39m: \u001b[32mList\u001b[39m[\u001b[32mInt\u001b[39m] = \u001b[33mList\u001b[39m(\u001b[32m2\u001b[39m, \u001b[32m5\u001b[39m, \u001b[32m7\u001b[39m, \u001b[32m9\u001b[39m, \u001b[32m11\u001b[39m)\n",
              "\u001b[36mx2\u001b[39m: \u001b[32mList\u001b[39m[\u001b[32mString\u001b[39m] = \u001b[33mList\u001b[39m(\u001b[32m\"hello\"\u001b[39m, \u001b[32m\"goodbye\"\u001b[39m, \u001b[32m\"merci\"\u001b[39m)"
            ]
          },
          "execution_count": 3,
          "metadata": {},
          "output_type": "execute_result"
        }
      ],
      "source": [
        "//PROBLEM 2: YOUR SOLUTION\n",
        "\n",
        "\n",
        "def isInList[A](data: List[A], value: A): Boolean = data.foldLeft(false)((x,y) => y==value || x)\n",
        "\n",
        "//Test cases\n",
        "val x1 = List(2,5,7,9,11)\n",
        "val x2 = List(\"hello\",\"goodbye\",\"merci\")\n",
        "\n",
        "println(isInList(x1,7)) //true\n",
        "println(isInList(x1,12))  //false\n",
        "println(isInList(x2,\"hello\")) //true\n",
        "println(isInList(x2,\"namaste\")) //false\n",
        "println(isInList(List(),5)) //false"
      ]
    },
    {
      "cell_type": "code",
      "execution_count": 4,
      "metadata": {
        "colab": {
          "base_uri": "https://localhost:8080/"
        },
        "id": "D779Trwaxd53",
        "outputId": "34de25ad-e359-43b9-acb5-86083c7d1d59"
      },
      "outputs": [
        {
          "name": "stdout",
          "output_type": "stream",
          "text": [
            "2.5\n",
            "6.8\n",
            "4.3\n"
          ]
        },
        {
          "data": {
            "text/plain": [
              "defined \u001b[32mfunction\u001b[39m \u001b[36maverage\u001b[39m\n",
              "\u001b[36mx1\u001b[39m: \u001b[32mList\u001b[39m[\u001b[32mDouble\u001b[39m] = \u001b[33mList\u001b[39m(\u001b[32m1.0\u001b[39m, \u001b[32m2.0\u001b[39m, \u001b[32m3.0\u001b[39m, \u001b[32m4.0\u001b[39m)\n",
              "\u001b[36mx2\u001b[39m: \u001b[32mList\u001b[39m[\u001b[32mInt\u001b[39m] = \u001b[33mList\u001b[39m(\u001b[32m2\u001b[39m, \u001b[32m5\u001b[39m, \u001b[32m7\u001b[39m, \u001b[32m9\u001b[39m, \u001b[32m11\u001b[39m)\n",
              "\u001b[36mx3\u001b[39m: \u001b[32mList\u001b[39m[\u001b[32mDouble\u001b[39m] = \u001b[33mList\u001b[39m(\u001b[32m4.3\u001b[39m)"
            ]
          },
          "execution_count": 4,
          "metadata": {},
          "output_type": "execute_result"
        }
      ],
      "source": [
        "//PROBLEM 3: YOUR SOLUTION\n",
        "\n",
        "def average(data: List[Double]): Double = data.foldLeft(0.0)(_+_)/data.length\n",
        "\n",
        "\n",
        "//Test cases\n",
        "val x1 = List(1.0,2.0,3.0,4.0)\n",
        "val x2 = List(2,5,7,9,11)\n",
        "val x3 = List(4.3)\n",
        "println(average(x1)) //2.5\n",
        "println(average(x2.map(i=>i.toDouble))) //6.8\n",
        "println(average(x3)) //4.3"
      ]
    },
    {
      "cell_type": "code",
      "execution_count": 5,
      "metadata": {
        "colab": {
          "base_uri": "https://localhost:8080/"
        },
        "id": "WAKg9Slmxd8R",
        "outputId": "0e2cbc1e-76bc-4c18-b7ee-634c4ace7752"
      },
      "outputs": [
        {
          "data": {
            "text/plain": [
              "defined \u001b[32mfunction\u001b[39m \u001b[36mcomplement\u001b[39m\n",
              "defined \u001b[32mfunction\u001b[39m \u001b[36misSquare\u001b[39m\n",
              "defined \u001b[32mfunction\u001b[39m \u001b[36misShorter\u001b[39m\n",
              "\u001b[36mr1\u001b[39m: \u001b[32mBoolean\u001b[39m = false\n",
              "\u001b[36mr2\u001b[39m: \u001b[32mBoolean\u001b[39m = true\n",
              "\u001b[36mr3\u001b[39m: \u001b[32mBoolean\u001b[39m = false\n",
              "\u001b[36mr4\u001b[39m: \u001b[32mBoolean\u001b[39m = true"
            ]
          },
          "execution_count": 5,
          "metadata": {},
          "output_type": "execute_result"
        }
      ],
      "source": [
        "//PROBLEM 4: YOUR SOLUTION\n",
        "\n",
        "def complement[A](pf: (A,A) => Boolean)(x: A, y: A): Boolean = !(pf(x,y))\n",
        "\n",
        "def isSquare(a: Int, b: Int): Boolean = (b == a*a)\n",
        "\n",
        "def isShorter(a: Array[Int], b: Array[Int]): Boolean = (a.length < b.length)\n",
        "\n",
        "\n",
        "\n",
        "\n",
        "\n",
        "//Test cases\n",
        "val r1 = complement(isSquare)(4,16) //false\n",
        "val r2 = complement(isSquare)(4,15) //true\n",
        "val r3 = complement(isShorter)(Array(1,2,3,4),Array(5,6,7,8,9)) //false\n",
        "val r4 = complement(isShorter)(Array(1,2,3,4),Array(5,6,7)) //true\n"
      ]
    },
    {
      "cell_type": "markdown",
      "metadata": {
        "id": "JvQEmTZKxi5T"
      },
      "source": [
        "<h1>PROBLEM 1</h1>\n",
        "\n",
        "<h2>Requirements</h2>\n",
        "<li>The function signature for cleanData. The signature must correctly include both the arguments as well as the return type</li>\n",
        "<li>The test cases must run correctly</li>\n",
        "<li>Use map, flatMap, Option, and transpose for this assignment</li>\n",
        "\n",
        "\n",
        "<h2>Description</h2>\n",
        "\n",
        "You are given a dataset in a scala Array with the following properties:\n",
        "\n",
        "* Each element in the array corresponds to one row of the dataset\n",
        "* Each element is in the form of a comma separated string with each value represented the value in the corresponding column of the dataset \n",
        "* The number of columns and the number of rows in the dataset are unknown \n",
        "* Write a function <span style=\"color:green\">cleanData</span> that returns a tuple of two elements. The first element is an Array containing the means of each column and the second an array containing the variance (population variance) of each column\n",
        "\n",
        "Your code should take into account the possibility that not every data item is convertible into a Double and should remove each nonconvertible value from the calculations. If a row has zero valid elements, then the data in that row will be ignored. If a column has zero valid elements, then the mean and variance for that column should be NaN\n",
        "\n",
        "You can assume that the array will contain an entry for each column in every row (i.e., that the rows have the right number of columns). If a value is missing, it will either be represented by a nan or by a whitespace.\n",
        "\n",
        "\n",
        "NOTES:\n",
        "<ol>\n",
        "<li> Use Option to deal with missing values (see the in-class example)\n",
        "<li> \n",
        "<p><p>\n",
        "\n",
        "test_data1 is represented by the table below\n",
        "<p>\n",
        "<table align=\"left\">\n",
        "    <tr><td>1.2 </td><td> 3.1 </td> <td>2.4</td></tr>\n",
        "    <tr><td></td><td> 1.4 </td><td> 2.1 </td></tr>\n",
        "    <tr><td>8.1 </td><td> 2.6 </td><td> bc </td></tr>\n",
        "    <tr><td>7.1 </td><td> 3.2 </td><td> 9.4</td></tr>\n",
        " </table>\n",
        "    \n",
        "<p>\n",
        "<BR CLEAR=left><div>\n",
        "    \n",
        "<li>the formula for population variance is \n",
        "    $ \\sum \\frac{(x - \\mu)^{2}}{n}$\n"
      ]
    },
    {
      "cell_type": "code",
      "execution_count": null,
      "metadata": {
        "id": "uoqDs27q8GnC"
      },
      "outputs": [],
      "source": []
    },
    {
      "cell_type": "markdown",
      "metadata": {
        "id": "_jikb3e5xpO_"
      },
      "source": [
        "<h1>Problem 2</h1>\n",
        "Write a function <span style=\"color:blue\">isInList</span> that takes two arguments, a list of elements and a value and returns true if value is a member of the list. <b>You must use foldLeft for this function!</b>\n",
        "\n",
        "Testcases:\n",
        "\n",
        "println(isInList(x1,7)) //true<br>\n",
        "println(isInList(x1,12))  //false<br>\n",
        "println(isInList(x2,\"hello\")) //true<br>\n",
        "println(isInList(x2,\"namaste\")) //false<br>\n",
        "println(isInList(List(),5)) //false<br>"
      ]
    },
    {
      "cell_type": "code",
      "execution_count": null,
      "metadata": {
        "id": "mlXYmvqm8HD8"
      },
      "outputs": [],
      "source": []
    },
    {
      "cell_type": "markdown",
      "metadata": {
        "id": "uNAzygz_xqhH"
      },
      "source": [
        "<h1>Problem 3</h1>\n",
        "Using fold, write a function <span style=\"color:blue\">average</span> that takes an Array of Double and returns the average of the elements of the list. Assume that the list is not empty  and <b>you must use only one statement, a single foldLeft</b>, in the function\n"
      ]
    },
    {
      "cell_type": "code",
      "execution_count": null,
      "metadata": {
        "id": "f-EVz2VK8HhW"
      },
      "outputs": [],
      "source": []
    },
    {
      "cell_type": "markdown",
      "metadata": {
        "id": "39bonjfVxsca"
      },
      "source": [
        "<h1>Problem 4</h1>\n",
        "Write a function <span style=\"color:blue\">complement</span> that takes a predicate function <b>p</b> of two arguments of any type (a predicate function is a function that returns true or false) and returns a function that takes the same two arguments but returns the complement of p. For example,\n",
        "\n",
        "if <b>p(2,\"Valid\")</b> returns true then <b>complement(p)(2,\"Valid\")</b> should return false\n",
        "\n",
        "if <b>p(2,\"Valid\")</b> returns false then <b>complement(p)(2,\"Valid\")</b> should return true\n",
        "\n",
        "To test your complement function by writing the following predicate functions:\n",
        "<ol>\n",
        "    <li><span style=\"color:blue\">isSquare</span> takes two Int arguments and returns true if the second argument is the square of the first. </li>\n",
        "    <li><span style=\"color:blue\">isShorter</span> takes two arguments, both Array[Int] and returns true if the first array is strictly shorter in length than the second array</li>\n"
      ]
    },
    {
      "cell_type": "code",
      "execution_count": null,
      "metadata": {
        "id": "RKa9Xs0S8H_7"
      },
      "outputs": [],
      "source": []
    },
    {
      "cell_type": "code",
      "execution_count": null,
      "metadata": {
        "id": "O3uh94Ymxhu8"
      },
      "outputs": [],
      "source": []
    },
    {
      "cell_type": "code",
      "execution_count": null,
      "metadata": {
        "id": "Wm4z_TIExhxx"
      },
      "outputs": [],
      "source": []
    }
  ],
  "metadata": {
    "colab": {
      "collapsed_sections": [],
      "name": "Yiwei Hou_Assignment 4 - Scala functions.ipynb",
      "provenance": []
    },
    "kernelspec": {
      "display_name": "Scala",
      "language": "scala",
      "name": "scala"
    }
  },
  "nbformat": 4,
  "nbformat_minor": 0
}
