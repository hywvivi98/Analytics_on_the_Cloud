{
 "cells": [
  {
   "cell_type": "markdown",
   "metadata": {},
   "source": [
    "<h1>Apache Spark on GCP</h1>\n"
   ]
  },
  {
   "cell_type": "markdown",
   "metadata": {},
   "source": [
    "<h1>The data</h1>\n",
    "<li>NYC yellow cab trip data</li>\n",
    "<li>Yellow cab data is available from <a href=\"https://www1.nyc.gov/site/tlc/about/tlc-trip-record-data.page\">https://www1.nyc.gov/site/tlc/about/tlc-trip-record-data.page</a></li>\n",
    "<li>We're only interested in data from 2017</li>\n",
    "<h1>The problem</h1>\n",
    "<li>Calculate the mean and the variance of the trip cost for trips originating in each taxi zone</li>\n",
    "<li>The PULocationID column corresponds to the taxi zone</li>\n",
    "<li>The trip cost is the fare_amount plus the tip_amount. You can ignore all other charges</li>\n",
    "<li>You must use combineByKey for this problem. And you must use the one pass method for calculating both the mean as well as the variance. (i.e., you should make only one call to combineByKey)</li>\n",
    "<li>Use the following formula for calculating variance: $ variance = \\frac{\\sum x_i^2 -n\\bar{x}^2}{(n-1)} $ </li>\n",
    "<li>The program should output a Map of (zone -> (mean,variance), zone  -> (mean,variance) , ......</li>\n",
    "\n",
    "Example of output:\n",
    "\n",
    "Map(188 -> (14.666259597276545,249.33821353365235), 204 -> (55.0072972972973,2666.6166251278305), 194 -> (42.80580259365995,915.6050500618951), ...."
   ]
  },
  {
   "cell_type": "markdown",
   "metadata": {},
   "source": [
    "<h1>Getting the data</h1>\n",
    "<li>Use the following shell script to get the data into your storage bucket</li>\n",
    "<li>Note: Replace my bucket uri with your bucket uri</li>\n",
    "<b>Make sure that the entire curl command is in a single line!</b> Mine should be:\n",
    "<br>\n",
    "<small>`curl https://s3.amazonaws.com/nyc-tlc/trip+data/yellow_tripdata_$val.csv | gsutil cp - gs://hj2203-ieor4526-bucket-01/data/yellow_tripdata$val.csv`</small>\n",
    "<br>\n",
    "Also note that the single quote at the front and back of the curl statement is a backquote, not the regular single quote"
   ]
  },
  {
   "cell_type": "markdown",
   "metadata": {},
   "source": [
    "<h3>Using the shell script</h3>\n",
    "<li>On your cloud Jupyter, open a new Python 3 notebook</li>\n",
    "<li>Cut and paste the script below into a cell in that notebook</li>\n",
    "<li>Make sure you've created a folder named \"data\" in your cloud storage bucket</li>\n",
    "<li>modify the script to replace my cloud URI with the name of your storage bucket</li>\n",
    "<li>Run the cell. It will take some time but, assuming your file references are correct, you should see all the taxi data files in the data folder on your cloud storage bucket</li>\n",
    "\n"
   ]
  },
  {
   "cell_type": "markdown",
   "metadata": {},
   "source": [
    "<b>NOTE</b>: The script below will run in a python notebook. Not in a spylon-kernel notebook"
   ]
  },
  {
   "cell_type": "code",
   "execution_count": null,
   "metadata": {},
   "outputs": [],
   "source": [
    "%%bash\n",
    "declare -a arr=(\"2017-01\" \"2017-02\" \"2017-03\" \"2017-04\" \"2017-05\" \"2017-06\" \"2017-07\" \"2017-08\" \"2017-09\" \"2017-10\"\n",
    " \"2017-11\" \"2017-12\" ) ;\n",
    "for val in ${arr[@]};\n",
    "do\n",
    "   `curl https://s3.amazonaws.com/nyc-tlc/trip+data/yellow_tripdata_$val.csv | gsutil cp - gs://hj2203-spark/data/yellow_tripdata$val.csv`\n",
    "done;"
   ]
  },
  {
   "cell_type": "markdown",
   "metadata": {},
   "source": [
    "<h3>The script explained</h3>\n",
    "<pre>\n",
    "LINE 1: #!/bin/bash\n",
    "LINE 2: declare -a arr=(\"2017-01\" \"2017-02\" \"2017-03\" \"2017-04\" \"2017-05\" \"2017-06\" \"2017-07\" \"2017-08\" \"2017-09\" \"2017-10\" \"2017-11\" \"2017-12\" ) \n",
    "LINE 3: for val in ${arr[@]}\n",
    "LINE 4: do\n",
    "LINE 5: `curl https://s3.amazonaws.com/nyc-tlc/trip+data/yellow_tripdata_$val.csv | gsutil cp - gs://hj2203-ieor452\n",
    "6-bucket-01/data/yellow_tripdata$val.csv`\n",
    "LINE 6: done\n",
    "</pre>\n",
    "\n"
   ]
  },
  {
   "cell_type": "markdown",
   "metadata": {},
   "source": [
    "<li><span style=\"color:blue\">LINE 1</span>: There are many different unix shells (csh, bash, dash, zsh, etc.). When writing a shell script, the first line tells the OS which shell to run. All the shells are stored in /bin (take a look at the contents of /bin using <span style=\"color:red\">ls /bin</span>). </li>\n",
    "<li><span style=\"color:blue\">LINE 2</span>: <span style=\"color:red\">declare</span> declares a new variable. The <span style=\"color:red\">-a</span> option indicates that the variable is an array. Note that the elements are separated by space rather than a comma</li>\n",
    "<li><span style=\"color:blue\">LINE 3</span>: A for loop. arr[@] indicates that we want to use the variable arr (declared in line 2) as a collection from which we will draw values. The \\$ sign is a peculiarity of unix shell. When declaring a variable, only the name of the variable is used (e.g., x=5) but when using a pre-declared variable, the \\$ sign must be appended in front of the variable name (e.g., echo \\$x). Note that there should be no spaces in x=5)</li>\n",
    "<li><span style=\"color:blue\">LINE 4</span>: do indicates the start of the for block</li>\n",
    "<li><span style=\"color:blue\">LINE 5</span>: curl is a linux command for getting a file from the internet. Here we want to get the file https://s3.amazonaws.com/nyc-tlc/trip+data/yellow_tripdata_\\$val.csv after substituting 2017-01, 2017-02, etc. for \\$val (we're using the val variable so need to put a \\$ in front - hopefully you can see why!). The -o option specifies the name of the output file. As the data streams into my machine, I'm streaming it out to the storage bucket. gsutil is a GCP app for managing stuff on the virtual machine through command line commands. gsutil cp copies data from one location to another. The - indicates that the data being copied is streaming in from another program (curl, in this case). And the final value, gs://.... is the cloud storage file where we're saving the data</li>\n",
    "<li><span style=\"color:blue\">LINE 6</span>: done indicates the end of the for block</li>"
   ]
  },
  {
   "cell_type": "code",
   "execution_count": null,
   "metadata": {},
   "outputs": [],
   "source": [
    "//SOLUTION GOES HERE!!\n",
    "\n",
    "// I just copy-pasted what I did in GCP in the following\n",
    "\n",
    "\n",
    "//This code constructs a list of files that need to be read\n",
    "val dates = Array(\"2017-01\",\"2017-02\",\"2017-03\",\"2017-04\",\"2017-05\",\n",
    "                  \"2017-06\",\"2017-07\",\"2017-08\",\"2017-09\",\"2017-10\",\n",
    "                  \"2017-11\",\"2017-12\")\n",
    "//Make a list of file names to be accessed from your cloud storage bucket\n",
    "// Use the ++ concatenation operator (if you want to!)\n",
    "val files = dates.map(t => \"gs://yh3406-ieor-4526-bucket-01/data/yellow_tripdata\"++t++\".csv\")\n",
    "\n",
    "\n",
    "//data_rdd_array is an array of MapPartitionsRDD. Each MapPartitionRDD corresponds to one data file.\n",
    "//Make sure that the data in data_rdd_array has the first two rows dropped (header and a blank row)\n",
    "val data_rdd_array = files.map(f=> sc.textFile(f).mapPartitionsWithIndex{ (idx,iter) => if (idx==0) iter.drop(2) else iter})\n",
    "\n",
    "//all_data combines all the MapPartitionsRDDs in data_rdd_array into a single MapPartitionsRDD\n",
    "//Use union (see next cell) to combine two rdds\n",
    "//Use reduce to combine all the rdds in data_rdd_array\n",
    "val all_data = data_rdd_array.reduce((a, b) => a union b)\n",
    "\n",
    "//Split all rows on comma\n",
    "val split_data = all_data.map(l=>l.split(\",\"))\n",
    "\n",
    "//Create a map rdd. \n",
    "//The key should be the pickup point id (column 7).\n",
    "//The value the sum of the fare (column 10) and the tip (column 13)\n",
    "val mapped_data = split_data.map(r => (r(7),r(10).toDouble+r(13).toDouble))\n",
    "\n",
    "//Write the combiner, the merger, and the mergeAndCombiner\n",
    "\n",
    "val combiner = (x: (Double,Double)) => (1,x) \n",
    "val merger = (x: (Int, (Double, Double)),y: (Double, Double)) => (x._1+1, (x._2._1 + y._1, x._2._2 + y._2))\n",
    "val mergeAndCombiner = (x: (Int, (Double, Double)), y:(Int, (Double, Double)))=>(x._1+ y._1, (x._2._1+ y._2._1,x._2._2+ y._2._2))\n",
    "\n",
    "\n",
    "//Do the combine by key\n",
    "val combined_data = mapped_data.map(t=>(t._1,(t._2,t._2*t._2)))// need (x_i)^2 term when calculating variance\n",
    "    .combineByKey(combiner,merger,mergeAndCombiner) //Get counts and totals\n",
    "\n",
    "//Write a function that returns the variance and the average\n",
    "//getVarAndAvgFunction = > (String, Double, Double)\n",
    "val getVarAndAvgFunction = (x: (String, (Int, (Double,Double)))) => {\n",
    "    val (zone, (n,(sum, square))) = x\n",
    "    (zone,(sum/n,(square-n*(sum/n)*(sum/n))/(n)))\n",
    "}\n",
    "\n",
    "//Collect the result\n",
    "val result = combined_data.map(getVarAndAvgFunction)\n",
    "\n",
    "val r = result.collectAsMap\n",
    "\n",
    "r"
   ]
  },
  {
   "cell_type": "code",
   "execution_count": null,
   "metadata": {},
   "outputs": [],
   "source": [
    "//Example of union\n",
    "val t1 =sc.parallelize(Array(\"hello\",\"bye\"))\n",
    "val t2 = sc.parallelize(Array(\"good\",\"fellow\"))\n",
    "val t3 = t1 union t2\n",
    "t3.collect"
   ]
  },
  {
   "cell_type": "code",
   "execution_count": null,
   "metadata": {},
   "outputs": [],
   "source": []
  }
 ],
 "metadata": {
  "kernelspec": {
   "display_name": "spylon-kernel",
   "language": "scala",
   "name": "spylon-kernel"
  },
  "language_info": {
   "codemirror_mode": "text/x-scala",
   "file_extension": ".scala",
   "help_links": [
    {
     "text": "MetaKernel Magics",
     "url": "https://metakernel.readthedocs.io/en/latest/source/README.html"
    }
   ],
   "mimetype": "text/x-scala",
   "name": "scala",
   "pygments_lexer": "scala",
   "version": "0.4.1"
  },
  "toc": {
   "base_numbering": 1,
   "nav_menu": {},
   "number_sections": true,
   "sideBar": true,
   "skip_h1_title": false,
   "title_cell": "Table of Contents",
   "title_sidebar": "Contents",
   "toc_cell": false,
   "toc_position": {},
   "toc_section_display": true,
   "toc_window_display": false
  }
 },
 "nbformat": 4,
 "nbformat_minor": 2
}
