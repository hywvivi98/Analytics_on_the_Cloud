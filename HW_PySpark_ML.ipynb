{
 "cells": [
  {
   "cell_type": "markdown",
   "metadata": {},
   "source": [
    "<br><br><br>\n",
    "\n",
    "\n",
    "<span style=\"color:red;font-size:60px\">PySpark ML Practice Assignment</span>\n",
    "<br><br><br>\n",
    "In this assignment, we'll compare the results of a random forest classifier with the results from a logistic regression classifier on the California housing data. Working with python gives us access to easy graphics (matplotlib.pyplot) so we can draw ROC curves and precision-recall curves easily. We'll also get some practice with other feature transformers available in Spark.\n",
    "\n",
    "Just follow the steps below - carefully - and you should not have a problem\n"
   ]
  },
  {
   "cell_type": "markdown",
   "metadata": {},
   "source": [
    "<br><br><br>\n",
    "<span style=\"color:green;font-size:xx-large\">STEP 1: Initialize PySpark</span>"
   ]
  },
  {
   "cell_type": "code",
   "execution_count": 1,
   "metadata": {},
   "outputs": [
    {
     "name": "stderr",
     "output_type": "stream",
     "text": [
      "Using Spark's default log4j profile: org/apache/spark/log4j-defaults.properties\n",
      "Setting default log level to \"WARN\".\n",
      "To adjust logging level use sc.setLogLevel(newLevel). For SparkR, use setLogLevel(newLevel).\n",
      "22/04/18 23:14:15 WARN NativeCodeLoader: Unable to load native-hadoop library for your platform... using builtin-java classes where applicable\n",
      "22/04/18 23:14:16 WARN Utils: Service 'SparkUI' could not bind on port 4040. Attempting port 4041.\n",
      "22/04/18 23:14:16 WARN Utils: Service 'SparkUI' could not bind on port 4041. Attempting port 4042.\n"
     ]
    }
   ],
   "source": [
    "#Pyspark initialization code goes here\n",
    "import pyspark\n",
    "from pyspark.sql import SparkSession\n",
    "spark = SparkSession.builder.appName(\"PySpark ML Practice Assignment\").getOrCreate()\n",
    "sc = spark.sparkContext\n"
   ]
  },
  {
   "cell_type": "markdown",
   "metadata": {},
   "source": [
    "<br><br><br>\n",
    "<span style=\"color:green;font-size:xx-large\">STEP 2: necessary imports</span>\n",
    "<li>I've done these, hopefully, for you</li>"
   ]
  },
  {
   "cell_type": "code",
   "execution_count": 2,
   "metadata": {},
   "outputs": [],
   "source": [
    "from pyspark.sql.types import *\n",
    "from pyspark.sql.functions import col\n",
    "from pyspark.ml.feature import QuantileDiscretizer\n",
    "from pyspark.ml.feature import VectorAssembler\n",
    "from pyspark.ml.classification import RandomForestClassifier\n",
    "\n",
    "from pyspark.ml import Pipeline, PipelineModel\n",
    "from pyspark.ml.evaluation import MulticlassClassificationEvaluator\n",
    "from pyspark.ml.classification import LogisticRegression\n",
    "from pyspark.ml.evaluation import BinaryClassificationEvaluator"
   ]
  },
  {
   "cell_type": "markdown",
   "metadata": {},
   "source": [
    "<br><br><br>\n",
    "<span style=\"color:green;font-size:xx-large\">STEP 3: Read the data and split into training and testing sets</span>\n",
    "<li>Convert the Scala Spark function into a PySpark function</li>"
   ]
  },
  {
   "cell_type": "code",
   "execution_count": 3,
   "metadata": {},
   "outputs": [
    {
     "name": "stderr",
     "output_type": "stream",
     "text": [
      "                                                                                \r"
     ]
    }
   ],
   "source": [
    "from pyspark.sql import DataFrame\n",
    "\n",
    "\n",
    "def readData(): \n",
    "    df = spark.read.format(\"csv\").option('header',\"false\").option(\"inferschema\",\"true\").load(\"cal_housing.data\")\\\n",
    "    .toDF(\"Longitude\",\"Latitude\",\"MedianAge\",\n",
    "                             \"TotalRooms\",\"TotalBedrooms\",\"Population\",\"Households\",\n",
    "                             \"MedianIncome\",\"MedianHomeValue\")\n",
    "\n",
    "    train,test = df.randomSplit((0.8,0.2),seed=1234)\n",
    "    return train,test\n",
    "\n",
    "train,test = readData()"
   ]
  },
  {
   "cell_type": "code",
   "execution_count": 4,
   "metadata": {},
   "outputs": [
    {
     "data": {
      "text/plain": [
       "DataFrame[Longitude: double, Latitude: double, MedianAge: double, TotalRooms: double, TotalBedrooms: double, Population: double, Households: double, MedianIncome: double, MedianHomeValue: double]"
      ]
     },
     "execution_count": 4,
     "metadata": {},
     "output_type": "execute_result"
    }
   ],
   "source": [
    "train"
   ]
  },
  {
   "cell_type": "code",
   "execution_count": 5,
   "metadata": {},
   "outputs": [
    {
     "data": {
      "text/plain": [
       "DataFrame[Longitude: double, Latitude: double, MedianAge: double, TotalRooms: double, TotalBedrooms: double, Population: double, Households: double, MedianIncome: double, MedianHomeValue: double]"
      ]
     },
     "execution_count": 5,
     "metadata": {},
     "output_type": "execute_result"
    }
   ],
   "source": [
    "test"
   ]
  },
  {
   "cell_type": "code",
   "execution_count": null,
   "metadata": {},
   "outputs": [],
   "source": []
  },
  {
   "cell_type": "markdown",
   "metadata": {},
   "source": [
    "<br><br><br>\n",
    "<span style=\"color:green;font-size:xx-large\">STEP 4: Write the prepareData function</span>\n",
    "<li>Convert the Scala Spark function into a PySpark function</li>"
   ]
  },
  {
   "cell_type": "code",
   "execution_count": 6,
   "metadata": {},
   "outputs": [],
   "source": [
    "from pyspark.sql import DataFrame\n",
    "\n",
    "\n",
    "def prepareData(df): \n",
    "\n",
    "    df = df.withColumn(\"MedianHomeValue\",col(\"MedianHomeValue\")/100000)\\\n",
    "        .withColumn(\"RoomsPerHouse\", col(\"TotalRooms\")/col(\"Households\"))\\\n",
    "        .withColumn(\"PeoplePerHouse\", col(\"Population\")/col(\"Households\"))\\\n",
    "        .withColumn(\"BedroomsPerHouse\", col(\"TotalBedrooms\")/col(\"Households\"))\\\n",
    "        .select(\"MedianHomeValue\", \"MedianAge\", \"Population\", \"Households\", \n",
    "                \"MedianIncome\", \"RoomsPerHouse\", \"PeoplePerHouse\", \n",
    "                      \"BedroomsPerHouse\", \"Latitude\",\"Longitude\")\n",
    "\n",
    "\n",
    "    return df\n",
    "\n"
   ]
  },
  {
   "cell_type": "code",
   "execution_count": 7,
   "metadata": {},
   "outputs": [
    {
     "data": {
      "text/plain": [
       "<bound method DataFrame.printSchema of DataFrame[MedianHomeValue: double, MedianAge: double, Population: double, Households: double, MedianIncome: double, RoomsPerHouse: double, PeoplePerHouse: double, BedroomsPerHouse: double, Latitude: double, Longitude: double]>"
      ]
     },
     "execution_count": 7,
     "metadata": {},
     "output_type": "execute_result"
    }
   ],
   "source": [
    "train = prepareData(train)\n",
    "test = prepareData(test)\n",
    "\n",
    "# train.printSchema"
   ]
  },
  {
   "cell_type": "markdown",
   "metadata": {},
   "source": [
    "<br><br><br>\n",
    "<span style=\"color:green;font-size:xx-large\">STEP 5: Transform the dependent variable into two buckets</span>\n",
    "\n",
    "<li>Use QuantileDiscretizer with two buckets</li>\n",
    "<li>QuantileDiscretizer bins a continuous column into n buckets across the range of values in that column</li>\n",
    "<li>When n=2, we'll get 0 and 1 as the two values setting up the dv as a binary classification problem</li>\n",
    "<li>Note: In this case, the interpretation of the dv is:\n",
    "    <ul>\n",
    "        <li>0: low median housing value</li>\n",
    "        <li>1: high median housing value</li>\n",
    "    </ul>\n",
    "<li><a href=\"https://spark.apache.org/docs/latest/ml-features#quantilediscretizer\">https://spark.apache.org/docs/latest/ml-features#quantilediscretizer</a></li>\n"
   ]
  },
  {
   "cell_type": "code",
   "execution_count": 8,
   "metadata": {},
   "outputs": [
    {
     "name": "stderr",
     "output_type": "stream",
     "text": [
      "                                                                                \r"
     ]
    }
   ],
   "source": [
    "\n",
    "discretizer = QuantileDiscretizer().setInputCol(\"MedianHomeValue\").setOutputCol(\"DVBucket\").setNumBuckets(2)\n",
    "bucketizer = discretizer.fit(train)\n",
    "bucketed = bucketizer.transform(train)"
   ]
  },
  {
   "cell_type": "code",
   "execution_count": 9,
   "metadata": {},
   "outputs": [
    {
     "data": {
      "text/plain": [
       "DataFrame[MedianHomeValue: double, MedianAge: double, Population: double, Households: double, MedianIncome: double, RoomsPerHouse: double, PeoplePerHouse: double, BedroomsPerHouse: double, Latitude: double, Longitude: double, DVBucket: double]"
      ]
     },
     "execution_count": 9,
     "metadata": {},
     "output_type": "execute_result"
    }
   ],
   "source": [
    "bucketed\n",
    "# discretizer"
   ]
  },
  {
   "cell_type": "code",
   "execution_count": 10,
   "metadata": {},
   "outputs": [
    {
     "data": {
      "text/plain": [
       "DataFrame[MedianHomeValue: double, MedianAge: double, Population: double, Households: double, MedianIncome: double, RoomsPerHouse: double, PeoplePerHouse: double, BedroomsPerHouse: double, Latitude: double, Longitude: double]"
      ]
     },
     "execution_count": 10,
     "metadata": {},
     "output_type": "execute_result"
    }
   ],
   "source": [
    "train"
   ]
  },
  {
   "cell_type": "markdown",
   "metadata": {},
   "source": [
    "<br><br><br>\n",
    "<span style=\"color:green;font-size:xx-large\">STEP 6: Assemble the independent variables in a features vector</span>\n",
    "<li>Use VectorAssembler for this (the same as what we did in the class!</li>"
   ]
  },
  {
   "cell_type": "code",
   "execution_count": 11,
   "metadata": {},
   "outputs": [
    {
     "name": "stdout",
     "output_type": "stream",
     "text": [
      "+-----+--------------------+\n",
      "|label|            features|\n",
      "+-----+--------------------+\n",
      "|0.946|[52.0,806.0,270.0...|\n",
      "|1.036|[17.0,1244.0,456....|\n",
      "| 0.79|[36.0,1194.0,465....|\n",
      "|0.761|[32.0,434.0,187.0...|\n",
      "|1.067|[52.0,1152.0,435....|\n",
      "|0.508|[52.0,544.0,172.0...|\n",
      "|0.732|[11.0,1343.0,479....|\n",
      "|0.783|[28.0,1530.0,653....|\n",
      "|0.581|[32.0,620.0,268.0...|\n",
      "|0.669|[20.0,1993.0,721....|\n",
      "|0.684|[17.0,1947.0,647....|\n",
      "|0.901|[21.0,2907.0,972....|\n",
      "| 0.69|[30.0,1367.0,583....|\n",
      "|  0.7|[37.0,640.0,260.0...|\n",
      "|0.746|[15.0,1645.0,640....|\n",
      "| 1.07|[35.0,480.0,179.0...|\n",
      "|0.722|[33.0,656.0,236.0...|\n",
      "| 0.67|[34.0,950.0,317.0...|\n",
      "|0.702|[37.0,867.0,310.0...|\n",
      "|0.646|[40.0,788.0,279.0...|\n",
      "+-----+--------------------+\n",
      "only showing top 20 rows\n",
      "\n"
     ]
    }
   ],
   "source": [
    "from pyspark.ml.feature import VectorAssembler\n",
    "from pyspark.ml.linalg import Matrix, Vectors\n",
    "\n",
    "#Get the names of all columns except MedianHomeValue\n",
    "cols = train.columns\n",
    "cols.remove(\"MedianHomeValue\")\n",
    "\n",
    "#Create a vectorassembler from the list of columns and specify the name of the column of vectors\n",
    "assembler =  VectorAssembler().setInputCols((\"MedianAge\",\"Population\", \"Households\", \n",
    "                        \"MedianIncome\", \"RoomsPerHouse\", \"PeoplePerHouse\", \"BedroomsPerHouse\"))\\\n",
    "                        .setOutputCol(\"features\")\n",
    "\n",
    "\n",
    "#Apply the transform function on the data frame, select the dv and features column\n",
    "#And rename the dv column to label\n",
    "\n",
    "vector_df = assembler.transform(train)\\\n",
    "                     .select(\"MedianHomeValue\",\"features\")\\\n",
    "                     .withColumnRenamed(\"MedianHomeValue\",\"label\")\n",
    "\n",
    "\n",
    "vector_df.show()\n",
    "\n",
    "# cols\n",
    "\n",
    "\n"
   ]
  },
  {
   "cell_type": "markdown",
   "metadata": {},
   "source": [
    "<br><br><br><br>\n",
    "<span style=\"color:red;font-size:40px\">ML Models: Logistic Regression and Random Forest</span>\n",
    "<br><br>\n",
    "In this assignment, we'll build a logistic regression model and a random forest classifer and then compare the results on the two models. For this, we need to do the following:\n",
    "<li>Create a pipeline for the logistic regression model</li>\n",
    "<li>Create a pipeline for the random forest model</li>\n",
    "<li>Evaluate and compare both models</li>\n",
    "<li><a href=\"https://spark.apache.org/docs/latest/ml-classification-regression.html\">https://spark.apache.org/docs/latest/ml-classification-regression.html</a></li>"
   ]
  },
  {
   "cell_type": "markdown",
   "metadata": {},
   "source": [
    "<br><br><br>\n",
    "<span style=\"color:green;font-size:xx-large\">STEP 7: Create the two classifers</span>\n",
    "\n"
   ]
  },
  {
   "cell_type": "code",
   "execution_count": 12,
   "metadata": {},
   "outputs": [],
   "source": [
    "#I've done this\n",
    "\n",
    "rrr = RandomForestClassifier()\\\n",
    "    .setFeaturesCol(\"features\")\\\n",
    "    .setLabelCol(\"DVBucket\")\n",
    "\n",
    "logrr = LogisticRegression()\\\n",
    "    .setFeaturesCol(\"features\")\\\n",
    "    .setLabelCol(\"DVBucket\")\n",
    "\n",
    "\n"
   ]
  },
  {
   "cell_type": "markdown",
   "metadata": {},
   "source": [
    "<br><br><br>\n",
    "<span style=\"color:green;font-size:xx-large\">STEP 8: Create the two pipelines</span>\n",
    "\n",
    "<li>Create p1 with two stages: the bucketizer that uses QuantileDiscretizer and the assembler</li>\n",
    "<li>Create p2 with two stages: p1 and logistic regression</li>\n",
    "<li>Create p3 with two stages: p1 and random forest classifier</li>"
   ]
  },
  {
   "cell_type": "code",
   "execution_count": 13,
   "metadata": {},
   "outputs": [],
   "source": [
    "# import org.apache.spark.ml.{Pipeline, PipelineModel}\n",
    "\n",
    "p1 =Pipeline().setStages((discretizer,assembler))\n",
    "p2 = Pipeline().setStages((p1,logrr))\n",
    "p3 = Pipeline().setStages((p1,rrr))\n",
    "\n"
   ]
  },
  {
   "cell_type": "markdown",
   "metadata": {},
   "source": [
    "\n",
    "\n",
    "\n",
    "\n",
    "<br><br><br>\n",
    "<span style=\"color:green;font-size:xx-large\">STEP 9: Run the two pipelines with training data</span>\n"
   ]
  },
  {
   "cell_type": "code",
   "execution_count": 14,
   "metadata": {},
   "outputs": [
    {
     "name": "stderr",
     "output_type": "stream",
     "text": [
      "22/04/18 23:14:30 WARN InstanceBuilder$NativeBLAS: Failed to load implementation from:dev.ludovic.netlib.blas.JNIBLAS\n",
      "22/04/18 23:14:30 WARN InstanceBuilder$NativeBLAS: Failed to load implementation from:dev.ludovic.netlib.blas.ForeignLinkerBLAS\n"
     ]
    }
   ],
   "source": [
    "lrmodel = p2.fit(train)\n",
    "rcmodel = p3.fit(train)"
   ]
  },
  {
   "cell_type": "markdown",
   "metadata": {},
   "source": [
    "<br><br><br>\n",
    "<span style=\"color:green;font-size:xx-large\">STEP 10: Get predictions for both models</span>\n",
    "\n"
   ]
  },
  {
   "cell_type": "code",
   "execution_count": 15,
   "metadata": {},
   "outputs": [
    {
     "data": {
      "text/plain": [
       "DataFrame[MedianHomeValue: double, MedianAge: double, Population: double, Households: double, MedianIncome: double, RoomsPerHouse: double, PeoplePerHouse: double, BedroomsPerHouse: double, Latitude: double, Longitude: double, DVBucket: double, features: vector, rawPrediction: vector, probability: vector, prediction: double]"
      ]
     },
     "execution_count": 15,
     "metadata": {},
     "output_type": "execute_result"
    }
   ],
   "source": [
    "lr_pred = lrmodel.transform(test)\n",
    "rc_pred = rcmodel.transform(test)\n",
    "lr_pred"
   ]
  },
  {
   "cell_type": "markdown",
   "metadata": {},
   "source": [
    "<br><br><br>\n",
    "<span style=\"color:green;font-size:xx-large\">STEP 11: Print testing stats for each model</span>\n",
    "<li>Accuracy</li>\n",
    "<li>Area under ROC</li>\n",
    "<li>Area under Precision-Recall curve</li>\n",
    "<li>Use <a href=\"https://spark.apache.org/docs/latest/api/python/reference/api/pyspark.ml.evaluation.BinaryClassificationEvaluator.html#pyspark.ml.evaluation.BinaryClassificationEvaluator.metricName\">BinaryClassificationEvaluator</a> for the area under ROC and area under precision-recall curve</li>\n",
    "<li>Use <a href=\"https://spark.apache.org/docs/latest//api/python/reference/api/pyspark.ml.evaluation.MulticlassClassificationEvaluator.html\">MulticlassClassificationEvaluator</a> for accuracy</li>\n",
    "\n",
    "<li>You should see:</li>\n",
    "<pre>\n",
    "Test Area Under ROC Logisitic Regression 0.9197116200650872\n",
    "Test Area Under ROC Random Forest Classifier 0.903399057330368\n",
    "Test Area under PR Logistic Regression 0.921832503169575\n",
    "Test Area under PR Random Forest Classifier 0.9086782460923636\n",
    "Test Accuracy Logistic Regression 0.8415552855407047\n",
    "Test Accuracy Random Forest Classifier 0.8177399756986634\n",
    "</pre>"
   ]
  },
  {
   "cell_type": "code",
   "execution_count": 16,
   "metadata": {},
   "outputs": [
    {
     "name": "stdout",
     "output_type": "stream",
     "text": [
      "Test Area Under ROC Logisitic Regression 0.8887583791207764\n",
      "Test Area Under ROC Random Forest Classifier 0.8704355579753259\n",
      "Test Area under PR Logistic Regression 0.8887583791207764\n",
      "Test Area under PR Random Forest Classifier 0.8704355579753259\n",
      "Test Accuracy Logistic Regression 0.8026731470230862\n",
      "Test Accuracy Random Forest Classifier 0.7946537059538274\n"
     ]
    }
   ],
   "source": [
    "evaluator_b = BinaryClassificationEvaluator(labelCol=\"DVBucket\").setMetricName(\"areaUnderPR\")\n",
    "\n",
    "evaluato_mr = MulticlassClassificationEvaluator(labelCol=\"DVBucket\").setPredictionCol(\"prediction\").setMetricName(\"accuracy\")\n",
    "\n",
    "\n",
    "\n",
    "print('Test Area Under ROC Logisitic Regression', evaluator_b.evaluate(lr_pred))\n",
    "print('Test Area Under ROC Random Forest Classifier', evaluator_b.evaluate(rc_pred))\n",
    "print('Test Area under PR Logistic Regression',evaluator_b.evaluate(lr_pred))\n",
    "print('Test Area under PR Random Forest Classifier',evaluator_b.evaluate(rc_pred))\n",
    "print(\"Test Accuracy Logistic Regression\",evaluato_mr.evaluate(lr_pred))\n",
    "print(\"Test Accuracy Random Forest Classifier\",evaluato_mr.evaluate(rc_pred))\n",
    "\n"
   ]
  },
  {
   "cell_type": "markdown",
   "metadata": {},
   "source": [
    "<br><br><br>\n",
    "<span style=\"color:green;font-size:xx-large\">STEP 12: Print coefficients of the logistic regression</span>\n",
    "<li>Notice how this is different from the linear regression coefficients</li>\n",
    "<li>Still dominated by income but some other flavors have crept in</li>\n",
    "<li>Print this out nicely formatted. Each line should contain the feature and it's coefficient. Use a pandas dataframe. Example: </li>\n",
    "\n",
    "\n",
    "<pre>\n",
    "\tbeta\tfeature\n",
    "0\t0.025761\tMedianAge\n",
    "1\t-0.001325\tPopulation\n",
    "2\t0.004379\tHouseholds\n",
    "3\t1.316013\tMedianIncome\n",
    "4\t-0.239172\tRoomsPerHouse\n",
    "5\t0.000757\tPeoplePerHouse\n",
    "6\t1.604178\tBedroomsPerHouse\n",
    "7\t-1.731346\tLatitude\n",
    "8\t-1.720362\tLongitude\n",
    "\n",
    "</pre>"
   ]
  },
  {
   "cell_type": "code",
   "execution_count": 17,
   "metadata": {},
   "outputs": [
    {
     "data": {
      "text/html": [
       "<div>\n",
       "<style scoped>\n",
       "    .dataframe tbody tr th:only-of-type {\n",
       "        vertical-align: middle;\n",
       "    }\n",
       "\n",
       "    .dataframe tbody tr th {\n",
       "        vertical-align: top;\n",
       "    }\n",
       "\n",
       "    .dataframe thead th {\n",
       "        text-align: right;\n",
       "    }\n",
       "</style>\n",
       "<table border=\"1\" class=\"dataframe\">\n",
       "  <thead>\n",
       "    <tr style=\"text-align: right;\">\n",
       "      <th></th>\n",
       "      <th>beta</th>\n",
       "      <th>feature</th>\n",
       "    </tr>\n",
       "  </thead>\n",
       "  <tbody>\n",
       "    <tr>\n",
       "      <th>0</th>\n",
       "      <td>0.045744</td>\n",
       "      <td>MedianAge</td>\n",
       "    </tr>\n",
       "    <tr>\n",
       "      <th>1</th>\n",
       "      <td>-0.001228</td>\n",
       "      <td>Population</td>\n",
       "    </tr>\n",
       "    <tr>\n",
       "      <th>2</th>\n",
       "      <td>0.004124</td>\n",
       "      <td>Households</td>\n",
       "    </tr>\n",
       "    <tr>\n",
       "      <th>3</th>\n",
       "      <td>1.657630</td>\n",
       "      <td>MedianIncome</td>\n",
       "    </tr>\n",
       "    <tr>\n",
       "      <th>4</th>\n",
       "      <td>-0.697683</td>\n",
       "      <td>RoomsPerHouse</td>\n",
       "    </tr>\n",
       "    <tr>\n",
       "      <th>5</th>\n",
       "      <td>-0.003046</td>\n",
       "      <td>PeoplePerHouse</td>\n",
       "    </tr>\n",
       "    <tr>\n",
       "      <th>6</th>\n",
       "      <td>3.015353</td>\n",
       "      <td>BedroomsPerHouse</td>\n",
       "    </tr>\n",
       "  </tbody>\n",
       "</table>\n",
       "</div>"
      ],
      "text/plain": [
       "       beta           feature\n",
       "0  0.045744         MedianAge\n",
       "1 -0.001228        Population\n",
       "2  0.004124        Households\n",
       "3  1.657630      MedianIncome\n",
       "4 -0.697683     RoomsPerHouse\n",
       "5 -0.003046    PeoplePerHouse\n",
       "6  3.015353  BedroomsPerHouse"
      ]
     },
     "execution_count": 17,
     "metadata": {},
     "output_type": "execute_result"
    }
   ],
   "source": [
    "import pandas as pd\n",
    "lrModel = lrmodel.stages[1]\n",
    "\n",
    "df = pd.DataFrame(dict(zip(lrModel.coefficients,cols)).items())\n",
    "df.columns=['beta','feature']\n",
    "df"
   ]
  },
  {
   "cell_type": "markdown",
   "metadata": {},
   "source": [
    "<li>https://spark.apache.org/docs/latest/mllib-evaluation-metrics.html#binary-classification</li>"
   ]
  },
  {
   "cell_type": "markdown",
   "metadata": {},
   "source": [
    "<br><br><br>\n",
    "<span style=\"color:green;font-size:xx-large\">STEP 13: Draw testing ROC curves</span>\n",
    "<li>Arrange the two charts in a side by side grid, the first the ROC Curve for the LR model and the second the ROC curve for the RF model</li>\n",
    "<li>Include the areaUnderROC values in each chart</li>\n",
    "<li>For this, the easiest is to use sklearn's roc functionalities</li>\n",
    "<li>The predictions contain two useful columns, the probability and the dependent value bucket</li>\n",
    "<li>Extract these into a data frame</li>\n",
    "<li>Note that the probability is expressed as a pair (probability of 0 and probability of 1)</li>\n",
    "<li>Extract the probability of 1 from this (convert the df into an rdd, it will be easier!)</li>\n",
    "<li>Also convert all values to float from Spark DoubleType (sklearn won't understand DoubleType)</li>\n",
    "<li>You should see:</li>\n",
    "\n",
    "<img src=\"sample roc curve output.png\">"
   ]
  },
  {
   "cell_type": "code",
   "execution_count": 18,
   "metadata": {},
   "outputs": [
    {
     "name": "stderr",
     "output_type": "stream",
     "text": [
      "                                                                                \r"
     ]
    },
    {
     "data": {
      "text/plain": [
       "[Text(0.5, 0, 'FPR'), Text(0, 0.5, 'TPR')]"
      ]
     },
     "execution_count": 18,
     "metadata": {},
     "output_type": "execute_result"
    },
    {
     "data": {
      "image/png": "[encoded data removed]",
      "text/plain": [
       "<Figure size 1152x432 with 2 Axes>"
      ]
     },
     "metadata": {
      "needs_background": "light"
     },
     "output_type": "display_data"
    }
   ],
   "source": [
    "import matplotlib.pyplot as plt\n",
    "from sklearn.metrics import roc_curve, auc, precision_recall_curve\n",
    "fig, axes = plt.subplots(1,2,figsize=(16,6))\n",
    "fig.suptitle = \"Comparison of Models\"\n",
    "axes[0].set_title(\"ROC Curve LR Model\")\n",
    "axes[1].set_title(\"ROC Curve RF Model\")\n",
    "\n",
    "\n",
    "### ROC Curve LR Model\n",
    "lr_predictions = lr_pred.select('DVBucket','probability')\\\n",
    "                        .rdd.map(lambda row: (float(row['probability'][1]), float(row['DVBucket'])))\\\n",
    "                        .collect()\n",
    "lr_score, lr_true = zip(*lr_predictions)\n",
    "lr_fpr, lr_tpr, lr_thresholds = roc_curve(lr_true, lr_score, pos_label=1)\n",
    "axes[0].plot(lr_fpr, lr_tpr)\n",
    "axes[0].plot([0, 1], [0, 1], 'r--')\n",
    "axes[0].set(xlabel=\"FPR\", ylabel=\"TPR\")\n",
    "\n",
    "### ROC Curve RF Model\n",
    "rc_predictions = rc_pred.select('DVBucket','probability')\\\n",
    "                        .rdd.map(lambda row: (float(row['probability'][1]), float(row['DVBucket'])))\\\n",
    "                        .collect()\n",
    "rc_score, rc_true = zip(*rc_predictions)\n",
    "rc_fpr, rc_tpr, rc_thresholds = roc_curve(rc_true, rc_score, pos_label=1)\n",
    "axes[1].plot(rc_fpr, rc_tpr)\n",
    "axes[1].plot([0, 1], [0, 1], 'r--')\n",
    "axes[1].set(xlabel=\"FPR\", ylabel=\"TPR\")\n",
    "\n"
   ]
  },
  {
   "cell_type": "code",
   "execution_count": null,
   "metadata": {},
   "outputs": [],
   "source": []
  }
 ],
 "metadata": {
  "kernelspec": {
   "display_name": "Python 3 (ipykernel)",
   "language": "python",
   "name": "python3"
  },
  "language_info": {
   "codemirror_mode": {
    "name": "ipython",
    "version": 3
   },
   "file_extension": ".py",
   "mimetype": "text/x-python",
   "name": "python",
   "nbconvert_exporter": "python",
   "pygments_lexer": "ipython3",
   "version": "3.9.7"
  },
  "toc": {
   "base_numbering": 1,
   "nav_menu": {},
   "number_sections": true,
   "sideBar": true,
   "skip_h1_title": false,
   "title_cell": "Table of Contents",
   "title_sidebar": "Contents",
   "toc_cell": false,
   "toc_position": {},
   "toc_section_display": true,
   "toc_window_display": false
  }
 },
 "nbformat": 4,
 "nbformat_minor": 2
}
